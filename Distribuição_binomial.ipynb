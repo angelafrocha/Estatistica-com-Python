{
  "nbformat": 4,
  "nbformat_minor": 0,
  "metadata": {
    "colab": {
      "provenance": [],
      "authorship_tag": "ABX9TyOxLLEoS2NjuhiPE2b0Pgqf",
      "include_colab_link": true
    },
    "kernelspec": {
      "name": "python3",
      "display_name": "Python 3"
    },
    "language_info": {
      "name": "python"
    }
  },
  "cells": [
    {
      "cell_type": "markdown",
      "metadata": {
        "id": "view-in-github",
        "colab_type": "text"
      },
      "source": [
        "<a href=\"https://colab.research.google.com/github/angelafrocha/estatistica/blob/main/Distribui%C3%A7%C3%A3o_binomial.ipynb\" target=\"_parent\"><img src=\"https://colab.research.google.com/assets/colab-badge.svg\" alt=\"Open In Colab\"/></a>"
      ]
    },
    {
      "cell_type": "markdown",
      "source": [
        "#### **Primeira atividade**"
      ],
      "metadata": {
        "id": "vQLzF5SY54IB"
      }
    },
    {
      "cell_type": "markdown",
      "source": [
        "Em um concurso para preencher uma vaga de cientista de dados temos um total de 10 questões de múltipla escolha com 3 alternativas possíveis em cada questão. Cada questão tem o mesmo valor. Suponha que um candidato resolva se aventurar sem ter estudado absolutamente nada. Ele resolve fazer a prova de olhos vendados e chutar todas as resposta. Assumindo que a prova vale 10 pontos e a nota de corte seja 5, obtenha a probabilidade deste candidato acertar 5 questões e também a probabilidade deste candidato passar para a próxima etapa do processo seletivo."
      ],
      "metadata": {
        "id": "5J6R_6iP2X53"
      }
    },
    {
      "cell_type": "code",
      "execution_count": null,
      "metadata": {
        "id": "NNg3sX0J2ULC"
      },
      "outputs": [],
      "source": [
        "from scipy.stats import binom"
      ]
    },
    {
      "cell_type": "code",
      "source": [
        "# Probablilidade de acertar 5 questões\n",
        "p = 1/3\n",
        "n = 10\n",
        "k = 5\n",
        "\n",
        "probabilidade_5 = binom.pmf(5, n, p)\n",
        "probabilidade_5"
      ],
      "metadata": {
        "colab": {
          "base_uri": "https://localhost:8080/"
        },
        "id": "kMF-Gtu429t2",
        "outputId": "c0ab7b84-4836-49ae-dbc8-29fd80ee382b"
      },
      "execution_count": null,
      "outputs": [
        {
          "output_type": "execute_result",
          "data": {
            "text/plain": [
              "0.13656454808718146"
            ]
          },
          "metadata": {},
          "execution_count": 5
        }
      ]
    },
    {
      "cell_type": "code",
      "source": [
        "# Probablilidade de passar\n",
        "p = 1/3\n",
        "n = 10\n",
        "k = [5,6,7,8,9,10]\n",
        "\n",
        "prob_passar = binom.pmf(k, n, p).sum()\n",
        "prob_passar"
      ],
      "metadata": {
        "colab": {
          "base_uri": "https://localhost:8080/"
        },
        "id": "0EmiYK4e4L1Z",
        "outputId": "4c340a9a-fd87-462c-cb11-0456ad84c6ed"
      },
      "execution_count": null,
      "outputs": [
        {
          "output_type": "execute_result",
          "data": {
            "text/plain": [
              "0.21312808006909476"
            ]
          },
          "metadata": {},
          "execution_count": 7
        }
      ]
    },
    {
      "cell_type": "markdown",
      "source": [
        "**A probabilidade de acertar 5 questões é de 0.13656454808718146**\n",
        "\n",
        "**E a probablilidade de passar é de 0.21312808006909476**"
      ],
      "metadata": {
        "id": "OvxRoD4I4vB4"
      }
    },
    {
      "cell_type": "markdown",
      "source": [
        "#### **Segunda atividade**"
      ],
      "metadata": {
        "id": "1xOGgt_06BmX"
      }
    },
    {
      "cell_type": "markdown",
      "source": [
        "Uma cidade do interior realiza todos os anos uma gincana para arrecadar fundos para o hospital da cidade. Na última gincana se sabe que a proporção de participantes do sexo feminino foi de 60%. O total de equipes, com 12 integrantes, inscritas na gincana deste ano é de 30. Com as informações acima responda: Quantas equipes deverão ser formadas por 8 mulheres?"
      ],
      "metadata": {
        "id": "jUKlWUU66Nzu"
      }
    },
    {
      "cell_type": "code",
      "source": [
        "# Calculando a probablilidade de ter 8 mulheres em uma equipe de 12 integrantes\n",
        "p = 0.6\n",
        "n = 12\n",
        "k = 8\n",
        "\n",
        "prob = binom.pmf(k, n, p)\n",
        "prob"
      ],
      "metadata": {
        "colab": {
          "base_uri": "https://localhost:8080/"
        },
        "id": "bvlbU1xi6DMv",
        "outputId": "c148b7d2-cfb0-4900-94fb-652f0bc13980"
      },
      "execution_count": 8,
      "outputs": [
        {
          "output_type": "execute_result",
          "data": {
            "text/plain": [
              "0.21284093952"
            ]
          },
          "metadata": {},
          "execution_count": 8
        }
      ]
    },
    {
      "cell_type": "code",
      "source": [
        "# Calculando a quantidade de equipes que serão formadas por 8 mulheres\n",
        "equipes_8m = 30* prob\n",
        "equipes_8m"
      ],
      "metadata": {
        "colab": {
          "base_uri": "https://localhost:8080/"
        },
        "id": "EIusENYC7XE4",
        "outputId": "72c4eb11-9f6e-4222-ff7e-46734c84187f"
      },
      "execution_count": 10,
      "outputs": [
        {
          "output_type": "execute_result",
          "data": {
            "text/plain": [
              "6.3852281856"
            ]
          },
          "metadata": {},
          "execution_count": 10
        }
      ]
    },
    {
      "cell_type": "markdown",
      "source": [
        "**Serão aprocimandamente 6 equipes com 8 mulheres**"
      ],
      "metadata": {
        "id": "AH7poXge7rYH"
      }
    }
  ]
}