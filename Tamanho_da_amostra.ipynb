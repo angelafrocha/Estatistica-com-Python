{
  "nbformat": 4,
  "nbformat_minor": 0,
  "metadata": {
    "colab": {
      "provenance": [],
      "authorship_tag": "ABX9TyOrQPgl9gs3be4curjwLfIy",
      "include_colab_link": true
    },
    "kernelspec": {
      "name": "python3",
      "display_name": "Python 3"
    },
    "language_info": {
      "name": "python"
    }
  },
  "cells": [
    {
      "cell_type": "markdown",
      "metadata": {
        "id": "view-in-github",
        "colab_type": "text"
      },
      "source": [
        "<a href=\"https://colab.research.google.com/github/angelafrocha/estatistica/blob/main/Tamanho_da_amostra.ipynb\" target=\"_parent\"><img src=\"https://colab.research.google.com/assets/colab-badge.svg\" alt=\"Open In Colab\"/></a>"
      ]
    },
    {
      "cell_type": "code",
      "source": [
        "import math\n",
        "from scipy.stats import norm"
      ],
      "metadata": {
        "id": "yLQqvQMDeQxV"
      },
      "execution_count": 2,
      "outputs": []
    },
    {
      "cell_type": "markdown",
      "source": [
        "### Cálculo para população infinita"
      ],
      "metadata": {
        "id": "BvLgBPpBgOin"
      }
    },
    {
      "cell_type": "markdown",
      "source": [
        "Estamos estudando o rendimento mensal dos chefes de domicílios no Brasil. Nosso supervisor determinou que o erro máximo em relação a média seja de R$ 100,00.\n",
        "\n",
        " Sabemos que o desvio padrão populacional deste grupo de trabalhadores é de R$  3.323,39. Para um nível de confiança de 95%, qual deve ser o tamanho da amostra de nosso estudo?"
      ],
      "metadata": {
        "id": "rBx2aKdOeBO-"
      }
    },
    {
      "cell_type": "code",
      "execution_count": 6,
      "metadata": {
        "colab": {
          "base_uri": "https://localhost:8080/"
        },
        "id": "UvZeEu08dBla",
        "outputId": "3a38c536-271c-4efd-d6e1-f60b392c0e01"
      },
      "outputs": [
        {
          "output_type": "execute_result",
          "data": {
            "text/plain": [
              "1.959963984540054"
            ]
          },
          "metadata": {},
          "execution_count": 6
        }
      ],
      "source": [
        "e= 100\n",
        "sigma = 3323.39\n",
        "confianca = 0.95\n",
        "Z = norm.ppf(0.5+(confianca/2))\n",
        "Z"
      ]
    },
    {
      "cell_type": "code",
      "source": [
        "n = math.ceil((Z * sigma / e) ** 2)  # math.ceil é usado para arredondar para cima, garantindo o tamanho mínimo necessário\n",
        "n"
      ],
      "metadata": {
        "colab": {
          "base_uri": "https://localhost:8080/"
        },
        "id": "ocd48V9TeAbd",
        "outputId": "465606bc-8c94-4154-ccde-ac0ba2701e7e"
      },
      "execution_count": 8,
      "outputs": [
        {
          "output_type": "execute_result",
          "data": {
            "text/plain": [
              "4243"
            ]
          },
          "metadata": {},
          "execution_count": 8
        }
      ]
    },
    {
      "cell_type": "markdown",
      "source": [
        "### Cálculo para uma população finita"
      ],
      "metadata": {
        "id": "c1QWo5XTgVTl"
      }
    },
    {
      "cell_type": "markdown",
      "source": [
        "Em um lote de 10.000 latas de refrigerante foi realizada uma amostra aleatória simples de 100 latas e foi obtido o desvio padrão amostral do conteúdo das latas igual a 12 ml. O fabricante estipula um erro máximo sobre a média populacional de apenas 5 ml. Para garantir um nível de confiança de 95% qual o tamanho de amostra deve ser selecionado para este estudo?"
      ],
      "metadata": {
        "id": "Ff1MQU2NgbI9"
      }
    },
    {
      "cell_type": "code",
      "source": [
        "N = 10000\n",
        "s = 12\n",
        "e = 5\n",
        "confianca = 0.95\n",
        "Z = norm.ppf(0.5+(confianca/2))\n",
        "Z"
      ],
      "metadata": {
        "colab": {
          "base_uri": "https://localhost:8080/"
        },
        "id": "fuejJ_EwgafG",
        "outputId": "c9e082c8-818c-4f82-9ad0-2737ab74a12d"
      },
      "execution_count": 9,
      "outputs": [
        {
          "output_type": "execute_result",
          "data": {
            "text/plain": [
              "1.959963984540054"
            ]
          },
          "metadata": {},
          "execution_count": 9
        }
      ]
    },
    {
      "cell_type": "code",
      "source": [
        "#Amostra arredondada para cima\n",
        "n = math.ceil((Z * s / e) ** 2)\n",
        "n"
      ],
      "metadata": {
        "colab": {
          "base_uri": "https://localhost:8080/"
        },
        "id": "YNGBW0kRh5Mv",
        "outputId": "8624e13d-d4d0-4e47-abe3-69905ce6a81c"
      },
      "execution_count": 11,
      "outputs": [
        {
          "output_type": "execute_result",
          "data": {
            "text/plain": [
              "23"
            ]
          },
          "metadata": {},
          "execution_count": 11
        }
      ]
    }
  ]
}