{
  "nbformat": 4,
  "nbformat_minor": 0,
  "metadata": {
    "colab": {
      "provenance": [],
      "authorship_tag": "ABX9TyMqYJfhLK0/VPlaShEC/k8I",
      "include_colab_link": true
    },
    "kernelspec": {
      "name": "python3",
      "display_name": "Python 3"
    },
    "language_info": {
      "name": "python"
    }
  },
  "cells": [
    {
      "cell_type": "markdown",
      "metadata": {
        "id": "view-in-github",
        "colab_type": "text"
      },
      "source": [
        "<a href=\"https://colab.research.google.com/github/angelafrocha/Estatistica-com-Python/blob/main/Teste_de_Mann_Whitney.ipynb\" target=\"_parent\"><img src=\"https://colab.research.google.com/assets/colab-badge.svg\" alt=\"Open In Colab\"/></a>"
      ]
    },
    {
      "cell_type": "markdown",
      "source": [
        "Em nosso dataset temos os rendimento dos chefes de domicílio obtidos da Pesquisa Nacional por Amostra de Domicílios - PNAD no ano de 2015. Um problema bastante conhecido em nosso país diz respeito a desigualdade de renda, principalmente entre homens e mulheres.\n",
        "\n",
        "Duas amostras aleatórias, uma de 6 homens e outra com 8 mulheres, foram selecionadas em nosso dataset. Com o objetivo de comprovar tal desigualdade teste a igualdade das médias entra estas duas amostras com um nível de significância de 5%."
      ],
      "metadata": {
        "id": "ldZoowfI9PQN"
      }
    },
    {
      "cell_type": "markdown",
      "source": [
        "**Teste de Mann-Whitney**\n",
        "Comparação de duas populações - amostras independentes\n",
        "* O teste de Mann-Whitney é uma boa escolha quando você quer testar a hipótese de que duas amostras independentes foram selecionadas de populações com a mesma mediana (e não média, como muitas vezes é citado erroneamente) e as suposições de normalidade para um t-test não são satisfeitas."
      ],
      "metadata": {
        "id": "vaU2vTQ79iHl"
      }
    },
    {
      "cell_type": "code",
      "execution_count": 4,
      "metadata": {
        "id": "N3JwHZSq9GxB"
      },
      "outputs": [],
      "source": [
        "import pandas as pd\n",
        "import numpy as np\n",
        "from scipy.stats import mannwhitneyu"
      ]
    },
    {
      "cell_type": "code",
      "source": [
        "df = pd.read_csv('https://raw.githubusercontent.com/angelafrocha/template/master/data/raw/dados.csv')"
      ],
      "metadata": {
        "id": "AMAzpPp-AAw_"
      },
      "execution_count": 2,
      "outputs": []
    },
    {
      "cell_type": "code",
      "source": [
        "#seleção das amostras\n",
        "mulheres = df.query('Sexo == 1 and Renda > 0').sample(n = 8, random_state = 101).Renda\n",
        "homens = df.query('Sexo == 0 and Renda > 0').sample(n = 6, random_state = 101).Renda"
      ],
      "metadata": {
        "id": "jO8zzyHzACWp"
      },
      "execution_count": 5,
      "outputs": []
    },
    {
      "cell_type": "code",
      "source": [
        "# Executando o teste de Mann-Whitney\n",
        "U, p_valor = mannwhitneyu(mulheres, homens)\n",
        "\n",
        "print(f\"Estatística de teste: {U:.4f}\")\n",
        "print(f\"P-valor: {p_valor:.4f}\")"
      ],
      "metadata": {
        "colab": {
          "base_uri": "https://localhost:8080/"
        },
        "id": "GTXxmTp9Amb8",
        "outputId": "9e5543f6-ab72-4fb9-af86-da769121e683"
      },
      "execution_count": 6,
      "outputs": [
        {
          "output_type": "stream",
          "name": "stdout",
          "text": [
            "Estatística de teste: 8.0000\n",
            "P-valor: 0.0444\n"
          ]
        }
      ]
    },
    {
      "cell_type": "code",
      "source": [
        "# Interpretação\n",
        "significancia = 0.05\n",
        "if p_valor < significancia:\n",
        "    print(\"Rejeitamos a hipótese nula. A distribuição da renda não é a mesma entre homens e mulheres.\")\n",
        "else:\n",
        "    print(\"Não rejeitamos a hipótese nula. Não há evidência suficiente para afirmar que a distribuição da renda é diferente entre homens e mulheres.\")"
      ],
      "metadata": {
        "colab": {
          "base_uri": "https://localhost:8080/"
        },
        "id": "Pp4Y3JVHCTbk",
        "outputId": "13bcde26-0651-4c3e-ad5b-241d9da17640"
      },
      "execution_count": 7,
      "outputs": [
        {
          "output_type": "stream",
          "name": "stdout",
          "text": [
            "Rejeitamos a hipótese nula. A distribuição da renda não é a mesma entre homens e mulheres.\n"
          ]
        }
      ]
    }
  ]
}