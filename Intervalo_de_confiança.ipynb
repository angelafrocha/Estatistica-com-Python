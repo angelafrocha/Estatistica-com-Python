{
  "nbformat": 4,
  "nbformat_minor": 0,
  "metadata": {
    "colab": {
      "provenance": [],
      "authorship_tag": "ABX9TyP/ZE7QrXiN4+6zlC+EPnuS",
      "include_colab_link": true
    },
    "kernelspec": {
      "name": "python3",
      "display_name": "Python 3"
    },
    "language_info": {
      "name": "python"
    }
  },
  "cells": [
    {
      "cell_type": "markdown",
      "metadata": {
        "id": "view-in-github",
        "colab_type": "text"
      },
      "source": [
        "<a href=\"https://colab.research.google.com/github/angelafrocha/estatistica/blob/main/Intervalo_de_confian%C3%A7a.ipynb\" target=\"_parent\"><img src=\"https://colab.research.google.com/assets/colab-badge.svg\" alt=\"Open In Colab\"/></a>"
      ]
    },
    {
      "cell_type": "markdown",
      "source": [
        "Suponha que os pesos dos sacos de arroz de uma indústria alimentícia se distribuem aproximadamente como uma normal de desvio padrão populacional igual a 150 g. Selecionada uma amostra aleatório de 20 sacos de um lote específico, obteve-se um peso médio de 5.050 g. Construa um intervalo de confiança para a média populacional assumindo um nível de significância de 5%."
      ],
      "metadata": {
        "id": "mLhkBZJDLBIG"
      }
    },
    {
      "cell_type": "code",
      "source": [
        "from scipy.stats import norm\n",
        "import numpy as np"
      ],
      "metadata": {
        "id": "JMvRi1p1QbCZ"
      },
      "execution_count": 27,
      "outputs": []
    },
    {
      "cell_type": "code",
      "source": [
        "media_amostra = 5050\n",
        "desvio_p = 150\n",
        "n = 20\n",
        "raiz_n = np.sqrt(n)\n",
        "sigma = desvio_p/raiz_n\n",
        "print((\n",
        "    f'Amostra = {n}\\n'\n",
        "    f'Média da amostra = {media_amostra}\\n'\n",
        "    f'Desvio Padrão = {desvio_p}\\n'\n",
        "    f'Sigma = {sigma}'\n",
        "))"
      ],
      "metadata": {
        "colab": {
          "base_uri": "https://localhost:8080/"
        },
        "id": "3y4Iy17mVHQI",
        "outputId": "2375df54-b223-4ee2-ecfa-697cad4566c1"
      },
      "execution_count": 23,
      "outputs": [
        {
          "output_type": "stream",
          "name": "stdout",
          "text": [
            "Amostra = 20\n",
            "Média da amostra = 5050\n",
            "Desvio Padrão = 150\n",
            "Sigma = 33.54101966249684\n"
          ]
        }
      ]
    },
    {
      "cell_type": "code",
      "source": [
        "significancia = 0.05\n",
        "confianca = 1- 0.05\n",
        "confianca"
      ],
      "metadata": {
        "colab": {
          "base_uri": "https://localhost:8080/"
        },
        "id": "U9T2dFk-X79K",
        "outputId": "b74d7f8f-cecd-45c7-faf0-cc20ad0777a0"
      },
      "execution_count": 35,
      "outputs": [
        {
          "output_type": "execute_result",
          "data": {
            "text/plain": [
              "0.95"
            ]
          },
          "metadata": {},
          "execution_count": 35
        }
      ]
    },
    {
      "cell_type": "code",
      "source": [
        "intervalo_de_confianca = norm.interval(confianca, loc=media_amostra, scale=sigma)\n",
        "intervalo_de_confianca"
      ],
      "metadata": {
        "colab": {
          "base_uri": "https://localhost:8080/"
        },
        "id": "SDwHD0EOX4Fc",
        "outputId": "a62e7866-de2f-48f6-fef0-da72dea987c6"
      },
      "execution_count": 39,
      "outputs": [
        {
          "output_type": "execute_result",
          "data": {
            "text/plain": [
              "(4984.260809456757, 5115.739190543243)"
            ]
          },
          "metadata": {},
          "execution_count": 39
        }
      ]
    }
  ]
}