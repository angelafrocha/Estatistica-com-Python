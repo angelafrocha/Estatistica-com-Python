{
  "nbformat": 4,
  "nbformat_minor": 0,
  "metadata": {
    "colab": {
      "provenance": [],
      "authorship_tag": "ABX9TyO52rvm5tQ3ov2qbZq8fTOt",
      "include_colab_link": true
    },
    "kernelspec": {
      "name": "python3",
      "display_name": "Python 3"
    },
    "language_info": {
      "name": "python"
    }
  },
  "cells": [
    {
      "cell_type": "markdown",
      "metadata": {
        "id": "view-in-github",
        "colab_type": "text"
      },
      "source": [
        "<a href=\"https://colab.research.google.com/github/angelafrocha/estatistica/blob/main/Distribui%C3%A7%C3%A3o_Normal.ipynb\" target=\"_parent\"><img src=\"https://colab.research.google.com/assets/colab-badge.svg\" alt=\"Open In Colab\"/></a>"
      ]
    },
    {
      "cell_type": "markdown",
      "source": [
        "Em um estudo sobre as alturas dos moradores de uma cidade verificou-se que o conjunto de dados segue uma distribuição aproximadamente normal, com média 1,70 e desvio padrão de 0,1. Com estas informações obtenha o seguinte conjunto de probabilidades:\n",
        "\n",
        "**A.** probabilidade de uma pessoa, selecionada ao acaso, ter menos de 1,80 metros.\n",
        "\n",
        "**B.** probabilidade de uma pessoa, selecionada ao acaso, ter entre 1,60 metros e 1,80 metros.\n",
        "\n",
        "**C.** probabilidade de uma pessoa, selecionada ao acaso, ter mais de 1,90 metros."
      ],
      "metadata": {
        "id": "IEBonLN_B5Q0"
      }
    },
    {
      "cell_type": "code",
      "execution_count": 1,
      "metadata": {
        "id": "jK6qQNwiBr6r"
      },
      "outputs": [],
      "source": [
        "from scipy.stats import norm"
      ]
    },
    {
      "cell_type": "code",
      "source": [
        "media = 1.70\n",
        "desvio_p = 0.1"
      ],
      "metadata": {
        "id": "whYmfPoECML7"
      },
      "execution_count": 4,
      "outputs": []
    },
    {
      "cell_type": "markdown",
      "source": [
        "### **A. probabilidade de uma pessoa, selecionada ao acaso, ter menos de 1,80 metros.**"
      ],
      "metadata": {
        "id": "9ndzT3H6Dad-"
      }
    },
    {
      "cell_type": "code",
      "source": [
        "#Calculando o z para 1,80m\n",
        "z = (1.80- media)/desvio_p\n",
        "z"
      ],
      "metadata": {
        "colab": {
          "base_uri": "https://localhost:8080/"
        },
        "id": "2zu9cBWpDdiq",
        "outputId": "1e71c0c5-216f-4a24-a535-6c663c5e5853"
      },
      "execution_count": 5,
      "outputs": [
        {
          "output_type": "execute_result",
          "data": {
            "text/plain": [
              "1.0000000000000009"
            ]
          },
          "metadata": {},
          "execution_count": 5
        }
      ]
    },
    {
      "cell_type": "code",
      "source": [
        "# Calculando a probabilidade dentro da área correspondente aos alturas abaixo de 1.80\n",
        "prob_menor_180 = norm.cdf(z)\n",
        "\n",
        "print(f'A probabilidade de uma pessoa do grupo ter menos de 1,80m é de {prob_menor_180:.5f}.')"
      ],
      "metadata": {
        "colab": {
          "base_uri": "https://localhost:8080/"
        },
        "id": "18MRFQ_MEERW",
        "outputId": "e35fe181-ecda-4b71-f654-6ee6b477d54c"
      },
      "execution_count": 10,
      "outputs": [
        {
          "output_type": "stream",
          "name": "stdout",
          "text": [
            "A probabilidade de uma pessoa do grupo ter menos de 1,80m é de 0.84134.\n"
          ]
        }
      ]
    },
    {
      "cell_type": "markdown",
      "source": [
        "### **B. probabilidade de uma pessoa, selecionada ao acaso, ter entre 1,60 metros e 1,80 metros.**"
      ],
      "metadata": {
        "id": "-E4dkJPAFEv0"
      }
    },
    {
      "cell_type": "code",
      "source": [
        "# Calculando o z inferior\n",
        "zi = (1.60 - media)/ desvio_p\n",
        "zi"
      ],
      "metadata": {
        "colab": {
          "base_uri": "https://localhost:8080/"
        },
        "id": "bvTh3ZQpFHXL",
        "outputId": "a38157fa-f4ab-45a7-dad7-0b67cfdca3d8"
      },
      "execution_count": 11,
      "outputs": [
        {
          "output_type": "execute_result",
          "data": {
            "text/plain": [
              "-0.9999999999999987"
            ]
          },
          "metadata": {},
          "execution_count": 11
        }
      ]
    },
    {
      "cell_type": "code",
      "source": [
        "#Calculando o z superior\n",
        "zs = (1.80 - media)/ desvio_p\n",
        "zs"
      ],
      "metadata": {
        "colab": {
          "base_uri": "https://localhost:8080/"
        },
        "id": "HlVyvLQSFraG",
        "outputId": "d9e93966-dd58-4853-a6c9-c9fcfafb0e87"
      },
      "execution_count": 12,
      "outputs": [
        {
          "output_type": "execute_result",
          "data": {
            "text/plain": [
              "1.0000000000000009"
            ]
          },
          "metadata": {},
          "execution_count": 12
        }
      ]
    },
    {
      "cell_type": "code",
      "source": [
        "prob160_180 = norm.cdf(zs) - norm.cdf(zi)\n",
        "print(f'A probabilidade de uma pessoa ter de 1,60m a 1,80m é de {prob160_180:.5f}')"
      ],
      "metadata": {
        "colab": {
          "base_uri": "https://localhost:8080/"
        },
        "id": "Eso3fLGrF3rS",
        "outputId": "e1cdcd2b-6dd6-41b8-b988-770b89deca93"
      },
      "execution_count": 14,
      "outputs": [
        {
          "output_type": "stream",
          "name": "stdout",
          "text": [
            "A probabilidade de uma pessoa ter de 1,60m a 1,80m é de 0.68269\n"
          ]
        }
      ]
    },
    {
      "cell_type": "markdown",
      "source": [
        "### **C. probabilidade de uma pessoa, selecionada ao acaso, ter mais de 1,90 metros.**"
      ],
      "metadata": {
        "id": "vlgsa6ADHh-z"
      }
    },
    {
      "cell_type": "code",
      "source": [
        "z = (1.90-media)/desvio_p\n",
        "z"
      ],
      "metadata": {
        "colab": {
          "base_uri": "https://localhost:8080/"
        },
        "id": "jjcKtEkzHgzU",
        "outputId": "71392705-1d93-43be-98e2-88884947c225"
      },
      "execution_count": 15,
      "outputs": [
        {
          "output_type": "execute_result",
          "data": {
            "text/plain": [
              "1.9999999999999996"
            ]
          },
          "metadata": {},
          "execution_count": 15
        }
      ]
    },
    {
      "cell_type": "code",
      "source": [
        "probabilidade = norm.cdf(-z)\n",
        "print(f'A probabilidade de uma pessoa selecionada ao acoaso ter mais de 1,90m é {probabilidade:.5f}')"
      ],
      "metadata": {
        "colab": {
          "base_uri": "https://localhost:8080/"
        },
        "id": "zQLhk-sOH96-",
        "outputId": "6041dccd-3d26-4f00-9440-1090b8443219"
      },
      "execution_count": 16,
      "outputs": [
        {
          "output_type": "stream",
          "name": "stdout",
          "text": [
            "A probabilidade de uma pessoa selecionada ao acoaso ter mais de 1,90m é 0.02275\n"
          ]
        }
      ]
    }
  ]
}