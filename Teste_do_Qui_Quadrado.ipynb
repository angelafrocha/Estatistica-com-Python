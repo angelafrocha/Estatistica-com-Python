{
  "nbformat": 4,
  "nbformat_minor": 0,
  "metadata": {
    "colab": {
      "provenance": [],
      "authorship_tag": "ABX9TyO2gOetzaU0TTkrU4/uFKE9",
      "include_colab_link": true
    },
    "kernelspec": {
      "name": "python3",
      "display_name": "Python 3"
    },
    "language_info": {
      "name": "python"
    }
  },
  "cells": [
    {
      "cell_type": "markdown",
      "metadata": {
        "id": "view-in-github",
        "colab_type": "text"
      },
      "source": [
        "<a href=\"https://colab.research.google.com/github/angelafrocha/Estatistica-com-Python/blob/main/Teste_do_Qui_Quadrado.ipynb\" target=\"_parent\"><img src=\"https://colab.research.google.com/assets/colab-badge.svg\" alt=\"Open In Colab\"/></a>"
      ]
    },
    {
      "cell_type": "markdown",
      "source": [
        "Antes de cada partida do campeonato nacional de futebol, as moedas utilizadas pelos árbitros devem ser verificadas para se ter certeza de que não são viciadas, ou seja, que não tendam para determinado resultado. Para isso um teste simples deve ser realizado antes de cada partida. Este teste consiste em lançar a moeda do jogo **50 vezes** e contar as frequências de **CARAS** e **COROAS** obtidas. A tabela abaixo mostra o resultado obtido no experimento:\n",
        "\n",
        "||CARA|COROA|\n",
        "|-|-|-|\n",
        "|Observado|17|33|\n",
        "|Esperado|25|25|\n",
        "\n",
        "A um **nível de significância de 5%**, é possível afirmar que a moeda não é honesta, isto é, que a moeda apresenta uma probabilidade maior de cair com a face **CARA** voltada para cima?"
      ],
      "metadata": {
        "id": "xjY3NfQvqKBE"
      }
    },
    {
      "cell_type": "markdown",
      "source": [
        "**teste Qui-quadrado é usado para testar hipóteses sobre a distribuição de frequências.**"
      ],
      "metadata": {
        "id": "ueMNT5xHqPNm"
      }
    },
    {
      "cell_type": "code",
      "source": [
        "from scipy.stats import chisquare"
      ],
      "metadata": {
        "id": "-nVdTmcHqfdC"
      },
      "execution_count": 8,
      "outputs": []
    },
    {
      "cell_type": "code",
      "source": [
        "# Dados\n",
        "observado = [17, 33]\n",
        "esperado = [25, 25]\n",
        "significancia = 0.05"
      ],
      "metadata": {
        "id": "tqblOvluqOcP"
      },
      "execution_count": 6,
      "outputs": []
    },
    {
      "cell_type": "code",
      "execution_count": 9,
      "metadata": {
        "colab": {
          "base_uri": "https://localhost:8080/"
        },
        "id": "dhzFaYogp88t",
        "outputId": "e6e96e44-444b-434c-e678-ed37bf225361"
      },
      "outputs": [
        {
          "output_type": "stream",
          "name": "stdout",
          "text": [
            "Valor de Qui-quadrado: 5.1200\n",
            "P-valor: 0.0237\n"
          ]
        }
      ],
      "source": [
        "chi2, p_valor = chisquare(observado, esperado)\n",
        "print(f\"Valor de Qui-quadrado: {chi2:.4f}\")\n",
        "print(f\"P-valor: {p_valor:.4f}\")"
      ]
    },
    {
      "cell_type": "code",
      "source": [
        "p_valor <= significancia"
      ],
      "metadata": {
        "colab": {
          "base_uri": "https://localhost:8080/"
        },
        "id": "r6cU-29ZrZWQ",
        "outputId": "fcb65696-23d7-4425-97e6-fbbd52df9ee2"
      },
      "execution_count": 10,
      "outputs": [
        {
          "output_type": "execute_result",
          "data": {
            "text/plain": [
              "True"
            ]
          },
          "metadata": {},
          "execution_count": 10
        }
      ]
    },
    {
      "cell_type": "markdown",
      "source": [
        "A moeda, provavelmente, não é honesta"
      ],
      "metadata": {
        "id": "CCbALG7_snKk"
      }
    }
  ]
}