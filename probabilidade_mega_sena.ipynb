{
  "nbformat": 4,
  "nbformat_minor": 0,
  "metadata": {
    "colab": {
      "provenance": [],
      "authorship_tag": "ABX9TyOT+jvFR8krUCPvDrC1oZfm",
      "include_colab_link": true
    },
    "kernelspec": {
      "name": "python3",
      "display_name": "Python 3"
    },
    "language_info": {
      "name": "python"
    }
  },
  "cells": [
    {
      "cell_type": "markdown",
      "metadata": {
        "id": "view-in-github",
        "colab_type": "text"
      },
      "source": [
        "<a href=\"https://colab.research.google.com/github/angelafrocha/estatistica/blob/main/probabilidade_mega_sena.ipynb\" target=\"_parent\"><img src=\"https://colab.research.google.com/assets/colab-badge.svg\" alt=\"Open In Colab\"/></a>"
      ]
    },
    {
      "cell_type": "markdown",
      "source": [
        "# Ultilizando o Pytho para calcular probabilidades da Mega Sena\n"
      ],
      "metadata": {
        "id": "W02r4oNIss1L"
      }
    },
    {
      "cell_type": "markdown",
      "source": [
        "Será feito o cáuculo com uma aposta mínima, 6 números, e com a aposta máxima permitida atualmente(13/09/2023), de 20 números"
      ],
      "metadata": {
        "id": "4jc7csY6s7wh"
      }
    },
    {
      "cell_type": "code",
      "source": [
        "from scipy.special import comb"
      ],
      "metadata": {
        "id": "pXYNnX3kt8C0"
      },
      "execution_count": 1,
      "outputs": []
    },
    {
      "cell_type": "code",
      "execution_count": 3,
      "metadata": {
        "colab": {
          "base_uri": "https://localhost:8080/"
        },
        "id": "5PzoX11cskwM",
        "outputId": "18d68e56-c4c4-4c38-f0fb-141d67496f50"
      },
      "outputs": [
        {
          "output_type": "execute_result",
          "data": {
            "text/plain": [
              "50063860.0"
            ]
          },
          "metadata": {},
          "execution_count": 3
        }
      ],
      "source": [
        "# calculando o número de combinações possíveis para a aposta mínima\n",
        "comb_6 = comb(60,6)\n",
        "comb_6"
      ]
    },
    {
      "cell_type": "code",
      "source": [
        "# Probabilidade de acertar com uma única aposta de 6 números\n",
        "prob_6 = 1/comb_6\n",
        "print(\"{:.20f}\".format(prob_6))"
      ],
      "metadata": {
        "colab": {
          "base_uri": "https://localhost:8080/"
        },
        "id": "wzQ_ExPRyjYe",
        "outputId": "8821ad01-a86a-40cf-81f4-a813c9498e7c"
      },
      "execution_count": 16,
      "outputs": [
        {
          "output_type": "stream",
          "name": "stdout",
          "text": [
            "0.00000001997448858318\n"
          ]
        }
      ]
    },
    {
      "cell_type": "code",
      "source": [
        "# calculando o número de combinações possíveis para a aposta máxima\n",
        "comb_6_20 = comb(20,6)\n",
        "comb_6_20"
      ],
      "metadata": {
        "colab": {
          "base_uri": "https://localhost:8080/"
        },
        "id": "UwY3hLZKuaac",
        "outputId": "25f15520-95cf-4847-de39-4da450794100"
      },
      "execution_count": 12,
      "outputs": [
        {
          "output_type": "execute_result",
          "data": {
            "text/plain": [
              "38760.0"
            ]
          },
          "metadata": {},
          "execution_count": 12
        }
      ]
    },
    {
      "cell_type": "code",
      "source": [
        "prob_20 = comb_6_20/ comb_6\n",
        "print(\"{:.20f}\".format(prob_20))"
      ],
      "metadata": {
        "colab": {
          "base_uri": "https://localhost:8080/"
        },
        "id": "-nBBaSrSy-Z9",
        "outputId": "55d0e6b7-0df0-4243-f84b-8b4dc0e339cc"
      },
      "execution_count": 15,
      "outputs": [
        {
          "output_type": "stream",
          "name": "stdout",
          "text": [
            "0.00077421117748411726\n"
          ]
        }
      ]
    },
    {
      "cell_type": "markdown",
      "source": [
        "Obtemos então que a probabilidade de acertar com uma aposta de 6 números é de 0.00000001997448858318\n",
        "\n",
        "E a probabilidade de acertar com um a aposta de 20 números é de 0.00077421117748411726\n"
      ],
      "metadata": {
        "id": "AbMXM2U00xSs"
      }
    }
  ]
}